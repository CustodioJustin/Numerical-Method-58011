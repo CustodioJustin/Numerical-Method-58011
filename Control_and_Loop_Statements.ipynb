{
  "nbformat": 4,
  "nbformat_minor": 0,
  "metadata": {
    "colab": {
      "name": "Control and Loop Statements",
      "provenance": [],
      "authorship_tag": "ABX9TyMXFXobkfJBu6BM43lKf4XX",
      "include_colab_link": true
    },
    "kernelspec": {
      "name": "python3",
      "display_name": "Python 3"
    },
    "language_info": {
      "name": "python"
    }
  },
  "cells": [
    {
      "cell_type": "markdown",
      "metadata": {
        "id": "view-in-github",
        "colab_type": "text"
      },
      "source": [
        "<a href=\"https://colab.research.google.com/github/CustodioJustin/Numerical-Methods-58011/blob/main/Control_and_Loop_Statements.ipynb\" target=\"_parent\"><img src=\"https://colab.research.google.com/assets/colab-badge.svg\" alt=\"Open In Colab\"/></a>"
      ]
    },
    {
      "cell_type": "markdown",
      "source": [
        "##Collab re-uploaded for renaming the file."
      ],
      "metadata": {
        "id": "wUjZevuHuPdW"
      }
    },
    {
      "cell_type": "markdown",
      "source": [
        "##If Statement"
      ],
      "metadata": {
        "id": "Fuz5I7s5b5Kk"
      }
    },
    {
      "cell_type": "code",
      "execution_count": null,
      "metadata": {
        "id": "qyL1r103bdtu"
      },
      "outputs": [],
      "source": [
        "a, b = 100, 100\n",
        "\n",
        "if b > a:\n",
        "  print('b is greater than a')"
      ]
    },
    {
      "cell_type": "markdown",
      "source": [
        "## Elif Statement"
      ],
      "metadata": {
        "id": "Q-kp3MwlcJ6X"
      }
    },
    {
      "cell_type": "code",
      "source": [
        "if b < a:\n",
        "  print('b is greater than a')\n",
        "elif b > a:\n",
        "  print('a is greater than b')\n",
        "else:\n",
        "  print('a is equal to b')"
      ],
      "metadata": {
        "colab": {
          "base_uri": "https://localhost:8080/"
        },
        "id": "jPlqixqucQR-",
        "outputId": "4126373a-ae1b-4298-d514-82b6299e4718"
      },
      "execution_count": null,
      "outputs": [
        {
          "output_type": "stream",
          "name": "stdout",
          "text": [
            "a is equal to b\n"
          ]
        }
      ]
    },
    {
      "cell_type": "markdown",
      "source": [
        "##Short Hand If Statement"
      ],
      "metadata": {
        "id": "_0gMV_iJeDVD"
      }
    },
    {
      "cell_type": "code",
      "source": [
        "a, b = 12, 100\n",
        "\n",
        "if b > a: print('b is greater than a')"
      ],
      "metadata": {
        "colab": {
          "base_uri": "https://localhost:8080/"
        },
        "id": "KlXp1XBeeFv-",
        "outputId": "d50d0e0f-01a6-48d1-f053-79644b927b01"
      },
      "execution_count": null,
      "outputs": [
        {
          "output_type": "stream",
          "name": "stdout",
          "text": [
            "b is greater than a\n"
          ]
        }
      ]
    },
    {
      "cell_type": "markdown",
      "source": [
        "##Short Hand If.. Else Statement"
      ],
      "metadata": {
        "id": "Ow0rk4Xxefx8"
      }
    },
    {
      "cell_type": "code",
      "source": [
        "c, d = 35, 40\n",
        "\n",
        "print('c is greater than d') if c > d  else print('d is greater than c')"
      ],
      "metadata": {
        "colab": {
          "base_uri": "https://localhost:8080/"
        },
        "id": "wr_MneW-eiG6",
        "outputId": "6b0f84eb-16b7-4bcf-a988-bccf18f17a02"
      },
      "execution_count": null,
      "outputs": [
        {
          "output_type": "stream",
          "name": "stdout",
          "text": [
            "d is greater than c\n"
          ]
        }
      ]
    },
    {
      "cell_type": "markdown",
      "source": [
        "##And logic, if both statements or operands are true"
      ],
      "metadata": {
        "id": "6OEGu5Rmftfm"
      }
    },
    {
      "cell_type": "code",
      "source": [
        "c, d, e = 35, 40, 30\n",
        "\n",
        "if d > c and c > e:\n",
        " print('Both condition must be true')"
      ],
      "metadata": {
        "id": "zo6oHQRgfw41"
      },
      "execution_count": null,
      "outputs": []
    },
    {
      "cell_type": "code",
      "source": [
        "if d > c or e > c:\n",
        "  print('If one of the two operands is True')"
      ],
      "metadata": {
        "colab": {
          "base_uri": "https://localhost:8080/"
        },
        "id": "tae1RwerhCZL",
        "outputId": "1500cf42-84cf-4bab-e0fe-b2bd3314637f"
      },
      "execution_count": null,
      "outputs": [
        {
          "output_type": "stream",
          "name": "stdout",
          "text": [
            "If one of the two operands is True\n"
          ]
        }
      ]
    },
    {
      "cell_type": "markdown",
      "source": [
        "##Nested If"
      ],
      "metadata": {
        "id": "KlNVRGjzhPMw"
      }
    },
    {
      "cell_type": "code",
      "source": [
        "x = int(input())\n",
        "\n",
        "if x > 10:\n",
        "  print('x is above 10')\n",
        "  if x > 20:\n",
        "    print('x is above 20')\n",
        "    if x > 30:\n",
        "      print('x is above 30')\n",
        "      if x > 40:\n",
        "        print('x is above 40')\n",
        "      else:\n",
        "        print('x is not above 40')\n",
        "    else:\n",
        "      print('x is not above 30')\n",
        "  else:\n",
        "    print('x is not above 20')"
      ],
      "metadata": {
        "colab": {
          "base_uri": "https://localhost:8080/"
        },
        "id": "LcpAV9rKhRKK",
        "outputId": "eb8cffb4-4ae2-4be0-a68e-62a0803fc929"
      },
      "execution_count": null,
      "outputs": [
        {
          "output_type": "stream",
          "name": "stdout",
          "text": [
            "30\n",
            "x is above 10\n",
            "x is above 20\n",
            "x is not above 30\n"
          ]
        }
      ]
    },
    {
      "cell_type": "markdown",
      "source": [
        "##Application 1\n",
        "write a program that determines if the input age is qualified to vote or not.  The qualifying age is 18 years old and above"
      ],
      "metadata": {
        "id": "QhszIXL7im2V"
      }
    },
    {
      "cell_type": "code",
      "source": [
        "age = int(input())\n",
        "\n",
        "print('The Age is qualified') if age >=18 else ('Age is not qualified') "
      ],
      "metadata": {
        "colab": {
          "base_uri": "https://localhost:8080/"
        },
        "id": "WPWTcxEqip0f",
        "outputId": "5585623e-5a1c-4878-c289-67538ceeb7e0"
      },
      "execution_count": null,
      "outputs": [
        {
          "output_type": "stream",
          "name": "stdout",
          "text": [
            "21\n",
            "The Age is qualified\n"
          ]
        }
      ]
    },
    {
      "cell_type": "markdown",
      "source": [
        "##Application 2\n",
        "\n",
        "write a program that determines if the input number is positive, negative or Zero"
      ],
      "metadata": {
        "id": "XYkN66uEjzwc"
      }
    },
    {
      "cell_type": "code",
      "source": [
        "numinput = int(input())\n",
        "\n",
        "if numinput > 0:\n",
        "  print('The number is positive')\n",
        "elif numinput == 0:\n",
        "  print('The number is zero')\n",
        "else:\n",
        "  print('The number is negative')"
      ],
      "metadata": {
        "colab": {
          "base_uri": "https://localhost:8080/"
        },
        "id": "63sxeD8JkoBe",
        "outputId": "ff8fd6b3-4f68-43e8-a98c-c55f745a4b3f"
      },
      "execution_count": null,
      "outputs": [
        {
          "output_type": "stream",
          "name": "stdout",
          "text": [
            "0\n",
            "The number is zero\n"
          ]
        }
      ]
    },
    {
      "cell_type": "markdown",
      "source": [
        "##For Loop Statement"
      ],
      "metadata": {
        "id": "sHIvXK2ukoR-"
      }
    },
    {
      "cell_type": "code",
      "source": [
        "week = ['Sunday','Monday','Tuesday','Wednesday','Thursday'\n",
        "        ,'Friday','Saturday']\n",
        "\n",
        "for x in week:\n",
        "  print(x)\n",
        "  if x == 'Thursday':\n",
        "    break"
      ],
      "metadata": {
        "colab": {
          "base_uri": "https://localhost:8080/"
        },
        "id": "7KUTdZbZkXIh",
        "outputId": "3724544a-66ce-4535-934d-c1b0c5db978f"
      },
      "execution_count": null,
      "outputs": [
        {
          "output_type": "stream",
          "name": "stdout",
          "text": [
            "Sunday\n",
            "Monday\n",
            "Tuesday\n",
            "Wednesday\n",
            "Thursday\n"
          ]
        }
      ]
    }
  ]
}