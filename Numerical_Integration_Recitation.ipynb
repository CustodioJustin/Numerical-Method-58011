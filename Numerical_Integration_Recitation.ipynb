{
  "nbformat": 4,
  "nbformat_minor": 0,
  "metadata": {
    "colab": {
      "name": "Numerical Integration Recitation",
      "provenance": [],
      "authorship_tag": "ABX9TyNa+IRDv6r5SBaWz1dYOqzj",
      "include_colab_link": true
    },
    "kernelspec": {
      "name": "python3",
      "display_name": "Python 3"
    },
    "language_info": {
      "name": "python"
    }
  },
  "cells": [
    {
      "cell_type": "markdown",
      "metadata": {
        "id": "view-in-github",
        "colab_type": "text"
      },
      "source": [
        "<a href=\"https://colab.research.google.com/github/CustodioJustin/Numerical-Methods-58011/blob/main/Numerical_Integration_Recitation.ipynb\" target=\"_parent\"><img src=\"https://colab.research.google.com/assets/colab-badge.svg\" alt=\"Open In Colab\"/></a>"
      ]
    },
    {
      "cell_type": "code",
      "execution_count": 30,
      "metadata": {
        "id": "2nLPLsR7n7Zx",
        "colab": {
          "base_uri": "https://localhost:8080/"
        },
        "outputId": "f3bbe2b4-4435-4669-8bbb-485d51eeb4b8"
      },
      "outputs": [
        {
          "output_type": "stream",
          "name": "stdout",
          "text": [
            "Integral = 1.6005\n"
          ]
        }
      ],
      "source": [
        "import math\n",
        "\n",
        "\n",
        "def f(x):\n",
        "   return(0.2 + 25*x - (200*x**2) + (675*x**3) - (900*x**4) + (400*x**5))\n",
        "\n",
        "a = 0\n",
        "b = 0.8\n",
        "n = 10\n",
        "h = (b-a)/n\n",
        "S = h * (f(a)+f(b))\n",
        "\n",
        "for i in range (1,n):\n",
        "  S+=f(a+i*h)\n",
        "\n",
        "Integral = h*S\n",
        "\n",
        "print('Integral = %0.4f' %Integral)"
      ]
    }
  ]
}