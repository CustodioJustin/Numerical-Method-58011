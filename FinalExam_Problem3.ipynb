{
  "nbformat": 4,
  "nbformat_minor": 0,
  "metadata": {
    "colab": {
      "name": "FinalExam Problem3",
      "provenance": [],
      "authorship_tag": "ABX9TyPyBJDdx14etV19Gw6AkPDn",
      "include_colab_link": true
    },
    "kernelspec": {
      "name": "python3",
      "display_name": "Python 3"
    },
    "language_info": {
      "name": "python"
    }
  },
  "cells": [
    {
      "cell_type": "markdown",
      "metadata": {
        "id": "view-in-github",
        "colab_type": "text"
      },
      "source": [
        "<a href=\"https://colab.research.google.com/github/CustodioJustin/Numerical-Methods-58011/blob/main/FinalExam_Problem3.ipynb\" target=\"_parent\"><img src=\"https://colab.research.google.com/assets/colab-badge.svg\" alt=\"Open In Colab\"/></a>"
      ]
    },
    {
      "cell_type": "code",
      "execution_count": 2,
      "metadata": {
        "colab": {
          "base_uri": "https://localhost:8080/"
        },
        "id": "U1_HtF22leih",
        "outputId": "1184d6be-27ba-4ad0-8007-f16031d62ed5"
      },
      "outputs": [
        {
          "output_type": "stream",
          "name": "stdout",
          "text": [
            "Integral = 2.1731\n"
          ]
        }
      ],
      "source": [
        "import math\n",
        "\n",
        "def f(x):\n",
        "  return(math.exp(x))\n",
        "\n",
        "a = -1\n",
        "b = 1\n",
        "n = 10\n",
        "h = (b-a)/n\n",
        "S = h * (f(a)+f(b))    # value of summation\n",
        "\n",
        "for i in range(1,n):\n",
        "    S += f(a+i*h)\n",
        "\n",
        "Integral = S*h\n",
        "\n",
        "print('Integral = %0.4f' %Integral)"
      ]
    }
  ]
}